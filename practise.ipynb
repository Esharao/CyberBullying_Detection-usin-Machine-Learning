{
  "cells": [
    {
      "cell_type": "code",
      "execution_count": 11,
      "metadata": {
        "id": "_bRPwcVu4Vt-"
      },
      "outputs": [],
      "source": [
        "import pandas as pd\n",
        "import numpy as np\n",
        "import matplotlib.pyplot as plt\n",
        "import seaborn as sns\n",
        "plt.style.use(\"ggplot\")\n",
        "\n",
        "import re\n",
        "import nltk\n",
        "\n",
        "from sklearn.feature_extraction.text import TfidfVectorizer,TfidfTransformer,CountVectorizer\n",
        "from nltk import sent_tokenize,word_tokenize\n",
        "from sklearn.metrics import f1_score,accuracy_score, precision_score ,recall_score,make_scorer\n",
        "\n",
        "from time import time\n",
        "import pickle"
      ]
    },
    {
      "cell_type": "code",
      "execution_count": 12,
      "metadata": {
        "id": "qQB2rDKt6Eu9"
      },
      "outputs": [],
      "source": [
        "df =pd.read_csv(\"dataset.csv\")"
      ]
    },
    {
      "cell_type": "code",
      "execution_count": 13,
      "metadata": {
        "colab": {
          "base_uri": "https://localhost:8080/",
          "height": 206
        },
        "id": "Swjw4ktQ7rlw",
        "outputId": "1fc30499-0861-4c82-b9cd-4d333fb1f49f"
      },
      "outputs": [
        {
          "data": {
            "text/html": [
              "<div>\n",
              "<style scoped>\n",
              "    .dataframe tbody tr th:only-of-type {\n",
              "        vertical-align: middle;\n",
              "    }\n",
              "\n",
              "    .dataframe tbody tr th {\n",
              "        vertical-align: top;\n",
              "    }\n",
              "\n",
              "    .dataframe thead th {\n",
              "        text-align: right;\n",
              "    }\n",
              "</style>\n",
              "<table border=\"1\" class=\"dataframe\">\n",
              "  <thead>\n",
              "    <tr style=\"text-align: right;\">\n",
              "      <th></th>\n",
              "      <th>headline</th>\n",
              "      <th>label</th>\n",
              "    </tr>\n",
              "  </thead>\n",
              "  <tbody>\n",
              "    <tr>\n",
              "      <th>0</th>\n",
              "      <td>cock  suck before you piss around on my work</td>\n",
              "      <td>-1</td>\n",
              "    </tr>\n",
              "    <tr>\n",
              "      <th>1</th>\n",
              "      <td>you are  gay or antisemmitian archangel white ...</td>\n",
              "      <td>-1</td>\n",
              "    </tr>\n",
              "    <tr>\n",
              "      <th>2</th>\n",
              "      <td>fuck your filthy mother in the ass  dry</td>\n",
              "      <td>-1</td>\n",
              "    </tr>\n",
              "    <tr>\n",
              "      <th>3</th>\n",
              "      <td>get fuck  ed up  get fuck  ed up got a drink t...</td>\n",
              "      <td>-1</td>\n",
              "    </tr>\n",
              "    <tr>\n",
              "      <th>4</th>\n",
              "      <td>stupid peace of  shit  stop deleting my stuff ...</td>\n",
              "      <td>-1</td>\n",
              "    </tr>\n",
              "  </tbody>\n",
              "</table>\n",
              "</div>"
            ],
            "text/plain": [
              "                                            headline  label\n",
              "0       cock  suck before you piss around on my work     -1\n",
              "1  you are  gay or antisemmitian archangel white ...     -1\n",
              "2            fuck your filthy mother in the ass  dry     -1\n",
              "3  get fuck  ed up  get fuck  ed up got a drink t...     -1\n",
              "4  stupid peace of  shit  stop deleting my stuff ...     -1"
            ]
          },
          "execution_count": 13,
          "metadata": {},
          "output_type": "execute_result"
        }
      ],
      "source": [
        "df.head()"
      ]
    },
    {
      "cell_type": "code",
      "execution_count": 14,
      "metadata": {
        "colab": {
          "base_uri": "https://localhost:8080/"
        },
        "id": "Cpb7ovxQ7xZM",
        "outputId": "136494bf-8b8a-4411-aea2-a74cc16f515d"
      },
      "outputs": [
        {
          "data": {
            "text/plain": [
              "array([-1,  0])"
            ]
          },
          "execution_count": 14,
          "metadata": {},
          "output_type": "execute_result"
        }
      ],
      "source": [
        "df['label'].unique()"
      ]
    },
    {
      "cell_type": "markdown",
      "metadata": {
        "id": "At3jwPyj78FC"
      },
      "source": [
        "Dataframe manipulation"
      ]
    },
    {
      "cell_type": "code",
      "execution_count": 15,
      "metadata": {
        "id": "Kf2ULkgh73OU"
      },
      "outputs": [],
      "source": [
        "def perform_data_manipulation():\n",
        "  df =pd.read_csv(\"dataset.csv\")\n",
        "\n",
        "  for index in df.index:\n",
        "    if (df.loc[index,'label'] == -1):\n",
        "      df.loc[index,'label'] =1\n",
        "  return df"
      ]
    },
    {
      "cell_type": "code",
      "execution_count": 16,
      "metadata": {
        "id": "BI4XcLRg8u5v"
      },
      "outputs": [],
      "source": [
        "df = perform_data_manipulation()"
      ]
    },
    {
      "cell_type": "code",
      "execution_count": 17,
      "metadata": {
        "colab": {
          "base_uri": "https://localhost:8080/",
          "height": 206
        },
        "id": "0jZcemLS80xX",
        "outputId": "6ba205fa-6cca-433c-8b1b-1ef97f55deaf"
      },
      "outputs": [
        {
          "data": {
            "text/html": [
              "<div>\n",
              "<style scoped>\n",
              "    .dataframe tbody tr th:only-of-type {\n",
              "        vertical-align: middle;\n",
              "    }\n",
              "\n",
              "    .dataframe tbody tr th {\n",
              "        vertical-align: top;\n",
              "    }\n",
              "\n",
              "    .dataframe thead th {\n",
              "        text-align: right;\n",
              "    }\n",
              "</style>\n",
              "<table border=\"1\" class=\"dataframe\">\n",
              "  <thead>\n",
              "    <tr style=\"text-align: right;\">\n",
              "      <th></th>\n",
              "      <th>headline</th>\n",
              "      <th>label</th>\n",
              "    </tr>\n",
              "  </thead>\n",
              "  <tbody>\n",
              "    <tr>\n",
              "      <th>0</th>\n",
              "      <td>cock  suck before you piss around on my work</td>\n",
              "      <td>1</td>\n",
              "    </tr>\n",
              "    <tr>\n",
              "      <th>1</th>\n",
              "      <td>you are  gay or antisemmitian archangel white ...</td>\n",
              "      <td>1</td>\n",
              "    </tr>\n",
              "    <tr>\n",
              "      <th>2</th>\n",
              "      <td>fuck your filthy mother in the ass  dry</td>\n",
              "      <td>1</td>\n",
              "    </tr>\n",
              "    <tr>\n",
              "      <th>3</th>\n",
              "      <td>get fuck  ed up  get fuck  ed up got a drink t...</td>\n",
              "      <td>1</td>\n",
              "    </tr>\n",
              "    <tr>\n",
              "      <th>4</th>\n",
              "      <td>stupid peace of  shit  stop deleting my stuff ...</td>\n",
              "      <td>1</td>\n",
              "    </tr>\n",
              "  </tbody>\n",
              "</table>\n",
              "</div>"
            ],
            "text/plain": [
              "                                            headline  label\n",
              "0       cock  suck before you piss around on my work      1\n",
              "1  you are  gay or antisemmitian archangel white ...      1\n",
              "2            fuck your filthy mother in the ass  dry      1\n",
              "3  get fuck  ed up  get fuck  ed up got a drink t...      1\n",
              "4  stupid peace of  shit  stop deleting my stuff ...      1"
            ]
          },
          "execution_count": 17,
          "metadata": {},
          "output_type": "execute_result"
        }
      ],
      "source": [
        "df.head()"
      ]
    },
    {
      "cell_type": "code",
      "execution_count": 18,
      "metadata": {
        "colab": {
          "base_uri": "https://localhost:8080/"
        },
        "id": "-kRzWnuC86ty",
        "outputId": "d07b42a1-2ca7-43c8-ed22-df9abad58209"
      },
      "outputs": [
        {
          "data": {
            "text/plain": [
              "array([1, 0])"
            ]
          },
          "execution_count": 18,
          "metadata": {},
          "output_type": "execute_result"
        }
      ],
      "source": [
        "df['label'].unique()"
      ]
    },
    {
      "cell_type": "markdown",
      "metadata": {
        "id": "J0VYcnYt9nKr"
      },
      "source": [
        "Classification using Pie chart"
      ]
    },
    {
      "cell_type": "code",
      "execution_count": 19,
      "metadata": {
        "id": "eWtLjCVKBNOU"
      },
      "outputs": [],
      "source": [
        "def performdatadistribution(df):\n",
        "    total = df.shape[0]\n",
        "    num_non_toxic = df[df['label']==0].shape[0]\n",
        "\n",
        "    slices = [num_non_toxic/total, (total-num_non_toxic)/total]\n",
        "\n",
        "    labeling = ['Non-Toxic', 'Toxic']\n",
        "\n",
        "    explode = [0.2, 0]\n",
        "\n",
        "    plt.pie(slices, explode = explode, shadow=True, autopct=\"%1.1f%%\", labels = labeling, wedgeprops={'edgecolor': 'black'})\n",
        "\n",
        "    plt.title('Number of Toxic Vs Non- Toxic Test Sample')\n",
        "\n",
        "    plt.tight_layout()\n",
        "\n",
        "    plt.show()"
      ]
    },
    {
      "cell_type": "code",
      "execution_count": 20,
      "metadata": {
        "colab": {
          "base_uri": "https://localhost:8080/",
          "height": 487
        },
        "id": "jWq-46i1BPkD",
        "outputId": "88a85cbb-e37a-494a-fed3-3766aa7a3743"
      },
      "outputs": [
        {
          "data": {
            "image/png": "[encoded data removed]",
            "text/plain": [
              "<Figure size 640x480 with 1 Axes>"
            ]
          },
          "metadata": {},
          "output_type": "display_data"
        }
      ],
      "source": [
        "performdatadistribution(df)"
      ]
    },
    {
      "cell_type": "code",
      "execution_count": 21,
      "metadata": {
        "id": "E53-InNwBa9S"
      },
      "outputs": [],
      "source": [
        "def remove_pattern(input_txt,pattern):\n",
        "  if(type(input_txt)==str):\n",
        "    r = re.findall(pattern,input_txt)\n",
        "    for i in r:\n",
        "      input_txt = re.sub(i,'',input_txt)\n",
        "    return input_txt\n",
        "  else:\n",
        "    return \"\""
      ]
    },
    {
      "cell_type": "code",
      "execution_count": 22,
      "metadata": {
        "colab": {
          "base_uri": "https://localhost:8080/",
          "height": 81
        },
        "id": "ofleSbJdplUx",
        "outputId": "5d625abf-1e47-46be-88e1-1be707da6142"
      },
      "outputs": [
        {
          "data": {
            "text/html": [
              "<div>\n",
              "<style scoped>\n",
              "    .dataframe tbody tr th:only-of-type {\n",
              "        vertical-align: middle;\n",
              "    }\n",
              "\n",
              "    .dataframe tbody tr th {\n",
              "        vertical-align: top;\n",
              "    }\n",
              "\n",
              "    .dataframe thead th {\n",
              "        text-align: right;\n",
              "    }\n",
              "</style>\n",
              "<table border=\"1\" class=\"dataframe\">\n",
              "  <thead>\n",
              "    <tr style=\"text-align: right;\">\n",
              "      <th></th>\n",
              "      <th>headline</th>\n",
              "      <th>label</th>\n",
              "    </tr>\n",
              "  </thead>\n",
              "  <tbody>\n",
              "    <tr>\n",
              "      <th>0</th>\n",
              "      <td>cock  suck before you piss around on my work</td>\n",
              "      <td>1</td>\n",
              "    </tr>\n",
              "  </tbody>\n",
              "</table>\n",
              "</div>"
            ],
            "text/plain": [
              "                                       headline  label\n",
              "0  cock  suck before you piss around on my work      1"
            ]
          },
          "execution_count": 22,
          "metadata": {},
          "output_type": "execute_result"
        }
      ],
      "source": [
        "df.head(1)"
      ]
    },
    {
      "cell_type": "code",
      "execution_count": 23,
      "metadata": {
        "id": "QyK10VZWDwV3"
      },
      "outputs": [],
      "source": [
        "def datasetCleaning(df):\n",
        "    df['length_headline'] = df['headline'].str.len()\n",
        "    combined_df = pd.concat([df,df], ignore_index=True)\n",
        "#     remove @ user\n",
        "    combined_df['tidy_tweet'] = np.vectorize(remove_pattern)(combined_df['headline'], \"@[\\w]*\")\n",
        "\n",
        "#     remove extra letters\n",
        "    combined_df['tidy_tweet'] = combined_df['tidy_tweet'].str.replace(\"[^a-zA-Z#]\", \" \",regex=True)\n",
        "\n",
        "#     remove all those words with size less than 3\n",
        "    combined_df['tidy_tweet'] = combined_df['tidy_tweet'].apply(lambda x : ' '.join([w for w in x.split() if len(w)>3]))\n",
        "\n",
        "    combined_df['length_tidy_tweet'] = combined_df['tidy_tweet'].str.len()\n",
        "\n",
        "#     Tokenized\n",
        "    tokenized_tweet = combined_df['tidy_tweet'].apply(lambda x : x.split())\n",
        "\n",
        "    nltk.download('wordnet')\n",
        "\n",
        "    lemmatizer = nltk.stem.WordNetLemmatizer()\n",
        "\n",
        "    tokenized_tweet = tokenized_tweet.apply(lambda x :[lemmatizer.lemmatize(i) for i in x])\n",
        "\n",
        "    for i in range(len(tokenized_tweet)):\n",
        "        tokenized_tweet[i] = ' '.join(tokenized_tweet[i])\n",
        "    combined_df['tidy_tweet'] = tokenized_tweet\n",
        "\n",
        "    return combined_df, df\n"
      ]
    },
    {
      "cell_type": "code",
      "execution_count": 24,
      "metadata": {
        "colab": {
          "base_uri": "https://localhost:8080/"
        },
        "id": "dWQ9HWf0b7uL",
        "outputId": "aec25438-543a-4600-f848-38d8f2c62fe0"
      },
      "outputs": [
        {
          "name": "stderr",
          "output_type": "stream",
          "text": [
            "[nltk_data] Downloading package wordnet to\n",
            "[nltk_data]     C:\\Users\\HP\\AppData\\Roaming\\nltk_data...\n",
            "[nltk_data]   Package wordnet is already up-to-date!\n"
          ]
        }
      ],
      "source": [
        "combined_df, df =datasetCleaning(df)"
      ]
    },
    {
      "cell_type": "code",
      "execution_count": 25,
      "metadata": {
        "colab": {
          "base_uri": "https://localhost:8080/",
          "height": 206
        },
        "id": "9LsnLp3WD707",
        "outputId": "76009d5c-e81e-4c4d-c1c9-e066cfdee383"
      },
      "outputs": [
        {
          "data": {
            "text/html": [
              "<div>\n",
              "<style scoped>\n",
              "    .dataframe tbody tr th:only-of-type {\n",
              "        vertical-align: middle;\n",
              "    }\n",
              "\n",
              "    .dataframe tbody tr th {\n",
              "        vertical-align: top;\n",
              "    }\n",
              "\n",
              "    .dataframe thead th {\n",
              "        text-align: right;\n",
              "    }\n",
              "</style>\n",
              "<table border=\"1\" class=\"dataframe\">\n",
              "  <thead>\n",
              "    <tr style=\"text-align: right;\">\n",
              "      <th></th>\n",
              "      <th>headline</th>\n",
              "      <th>label</th>\n",
              "      <th>length_headline</th>\n",
              "      <th>tidy_tweet</th>\n",
              "      <th>length_tidy_tweet</th>\n",
              "    </tr>\n",
              "  </thead>\n",
              "  <tbody>\n",
              "    <tr>\n",
              "      <th>0</th>\n",
              "      <td>cock  suck before you piss around on my work</td>\n",
              "      <td>1</td>\n",
              "      <td>44</td>\n",
              "      <td>cock suck before piss around work</td>\n",
              "      <td>33</td>\n",
              "    </tr>\n",
              "    <tr>\n",
              "      <th>1</th>\n",
              "      <td>you are  gay or antisemmitian archangel white ...</td>\n",
              "      <td>1</td>\n",
              "      <td>624</td>\n",
              "      <td>antisemmitian archangel white tiger meow greet...</td>\n",
              "      <td>400</td>\n",
              "    </tr>\n",
              "    <tr>\n",
              "      <th>2</th>\n",
              "      <td>fuck your filthy mother in the ass  dry</td>\n",
              "      <td>1</td>\n",
              "      <td>39</td>\n",
              "      <td>fuck your filthy mother</td>\n",
              "      <td>23</td>\n",
              "    </tr>\n",
              "    <tr>\n",
              "      <th>3</th>\n",
              "      <td>get fuck  ed up  get fuck  ed up got a drink t...</td>\n",
              "      <td>1</td>\n",
              "      <td>121</td>\n",
              "      <td>fuck fuck drink that cant down fuck fuck fuck ...</td>\n",
              "      <td>51</td>\n",
              "    </tr>\n",
              "    <tr>\n",
              "      <th>4</th>\n",
              "      <td>stupid peace of  shit  stop deleting my stuff ...</td>\n",
              "      <td>1</td>\n",
              "      <td>93</td>\n",
              "      <td>stupid peace shit stop deleting stuff hole fal...</td>\n",
              "      <td>57</td>\n",
              "    </tr>\n",
              "  </tbody>\n",
              "</table>\n",
              "</div>"
            ],
            "text/plain": [
              "                                            headline  label  length_headline  \\\n",
              "0       cock  suck before you piss around on my work      1               44   \n",
              "1  you are  gay or antisemmitian archangel white ...      1              624   \n",
              "2            fuck your filthy mother in the ass  dry      1               39   \n",
              "3  get fuck  ed up  get fuck  ed up got a drink t...      1              121   \n",
              "4  stupid peace of  shit  stop deleting my stuff ...      1               93   \n",
              "\n",
              "                                          tidy_tweet  length_tidy_tweet  \n",
              "0                  cock suck before piss around work                 33  \n",
              "1  antisemmitian archangel white tiger meow greet...                400  \n",
              "2                            fuck your filthy mother                 23  \n",
              "3  fuck fuck drink that cant down fuck fuck fuck ...                 51  \n",
              "4  stupid peace shit stop deleting stuff hole fal...                 57  "
            ]
          },
          "execution_count": 25,
          "metadata": {},
          "output_type": "execute_result"
        }
      ],
      "source": [
        "combined_df.head()"
      ]
    },
    {
      "cell_type": "markdown",
      "metadata": {
        "id": "rbTOb_tBECNg"
      },
      "source": [
        "Dataset Spliting"
      ]
    },
    {
      "cell_type": "code",
      "execution_count": 26,
      "metadata": {
        "id": "vyE6pqwLEBBW"
      },
      "outputs": [],
      "source": [
        "from sklearn.model_selection import train_test_split"
      ]
    },
    {
      "cell_type": "code",
      "execution_count": 27,
      "metadata": {
        "id": "4vIlwTOVETkL"
      },
      "outputs": [],
      "source": [
        "def performdatasplit(x, y, combined_df, df):\n",
        "    X_train, X_test, y_train, y_test = train_test_split(combined_df['tidy_tweet'], combined_df['label'], test_size = x, random_state = y)\n",
        "    print(f\"Number of rows in the total dataset: {combined_df.shape[0]}\")\n",
        "    print(f\"Number of rows in the train dataset: {X_train.shape[0]}\")\n",
        "    print(f\"Number of rows in the test dataset: {X_test.shape[0]}\")\n",
        "\n",
        "    files = open(\"stopwords.txt\" , \"r\")\n",
        "    content = files.read()\n",
        "    content_list = content.split(\"\\n\")\n",
        "    files.close()\n",
        "\n",
        "    tfidfvector = TfidfVectorizer(stop_words=content_list, lowercase=True)\n",
        "\n",
        "    training_data = tfidfvector.fit_transform(X_train.values.astype('U'))\n",
        "\n",
        "    testing_data = tfidfvector.transform(X_test.values.astype('U'))\n",
        "\n",
        "    filename = 'tfidfvectoizer.pkl'\n",
        "\n",
        "    pickle.dump(tfidfvector.vocabulary_, open(filename, 'wb'))\n",
        "\n",
        "    return X_train , X_test, y_train, y_test, testing_data, filename, training_data, content_list"
      ]
    },
    {
      "cell_type": "code",
      "execution_count": 28,
      "metadata": {
        "colab": {
          "base_uri": "https://localhost:8080/"
        },
        "id": "lca-X3tSEan3",
        "outputId": "84223c41-159f-4f69-ddce-4b3f48249f62"
      },
      "outputs": [
        {
          "name": "stdout",
          "output_type": "stream",
          "text": [
            "Number of rows in the total dataset: 36296\n",
            "Number of rows in the train dataset: 29036\n",
            "Number of rows in the test dataset: 7260\n"
          ]
        },
        {
          "name": "stderr",
          "output_type": "stream",
          "text": [
            "c:\\Users\\HP\\AppData\\Local\\Programs\\Python\\Python311\\Lib\\site-packages\\sklearn\\feature_extraction\\text.py:406: UserWarning: Your stop_words may be inconsistent with your preprocessing. Tokenizing the stop words generated tokens ['ninad'] not in stop_words.\n",
            "  warnings.warn(\n"
          ]
        }
      ],
      "source": [
        "X_train , X_test, y_train, y_test, testing_data, filename, training_data, content_list = performdatasplit(0.2, 42, combined_df, df)"
      ]
    },
    {
      "cell_type": "markdown",
      "metadata": {
        "id": "FfIvvyqrOO00"
      },
      "source": [
        "Apply Machine Learning Algorithm."
      ]
    },
    {
      "cell_type": "code",
      "execution_count": 30,
      "metadata": {
        "id": "nH4KetjvOU36"
      },
      "outputs": [],
      "source": [
        "import xgboost as xgb\n",
        "from sklearn.naive_bayes import MultinomialNB\n",
        "from sklearn.tree import DecisionTreeClassifier\n",
        "from sklearn.svm import LinearSVC\n",
        "from sklearn.ensemble import AdaBoostClassifier, RandomForestClassifier, BaggingClassifier\n",
        "from sklearn.linear_model import LogisticRegression, SGDClassifier\n",
        "from sklearn.neighbors import KNeighborsClassifier"
      ]
    },
    {
      "cell_type": "code",
      "execution_count": 32,
      "metadata": {
        "id": "9GeMAN8dOXiy"
      },
      "outputs": [],
      "source": [
        "def pipeline(X_train, y_train, X_test, y_test):\n",
        "    MODELS = [LinearSVC(), LogisticRegression(), MultinomialNB(), DecisionTreeClassifier(),\n",
        "              AdaBoostClassifier(), BaggingClassifier(), SGDClassifier()]\n",
        "\n",
        "    size = len(y_train)\n",
        "\n",
        "    results = {}\n",
        "\n",
        "    final_result = []\n",
        "\n",
        "    for model in MODELS:\n",
        "        results['Algorithm'] = model.__class__.__name__\n",
        "\n",
        "        start = time()\n",
        "        print(f\"Training Time : {model.__class__.__name__}\")\n",
        "        model.fit(X_train, y_train)\n",
        "        end = time()\n",
        "\n",
        "        filename = model.__class__.__name__+\".pkl\"\n",
        "        pickle.dump(model, open(filename, \"wb\"))\n",
        "\n",
        "        results['Training Time'] = end - start\n",
        "\n",
        "        start = time()\n",
        "        prediction_test = model.predict(X_test)\n",
        "        prediction_train = model.predict(X_train)\n",
        "        end = time()\n",
        "\n",
        "        results['Prediction Time'] = end - start\n",
        "\n",
        "        results['Accuracy : Test'] = accuracy_score(y_test, prediction_test)\n",
        "        results['Accuracy : Train'] = accuracy_score(y_train, prediction_train)\n",
        "\n",
        "        results['F1 Score : Test'] = f1_score(y_test, prediction_test)\n",
        "        results['F1 Score : Train'] = f1_score(y_train, prediction_train)\n",
        "\n",
        "        results['Precision : Test'] = precision_score(y_test, prediction_test)\n",
        "        results['Precision : Train'] = precision_score(y_train, prediction_train)\n",
        "\n",
        "        results['Recall : Test'] = recall_score(y_test, prediction_test)\n",
        "        results['Recall : Train'] = recall_score(y_train, prediction_train)\n",
        "\n",
        "        print(f\"Training {model.__class__.__name__} finished in {results['Training Time']} sec\")\n",
        "\n",
        "        final_result.append(results.copy())\n",
        "    return final_result\n"
      ]
    },
    {
      "cell_type": "code",
      "execution_count": 33,
      "metadata": {
        "colab": {
          "base_uri": "https://localhost:8080/"
        },
        "id": "I49mBqC8Od9p",
        "outputId": "ac978f2b-227f-4c2c-fb4e-2c6fc31a7b16"
      },
      "outputs": [
        {
          "name": "stdout",
          "output_type": "stream",
          "text": [
            "Training Time : LinearSVC\n",
            "Training LinearSVC finished in 0.18658065795898438 sec\n",
            "Training Time : LogisticRegression\n",
            "Training LogisticRegression finished in 0.283231258392334 sec\n",
            "Training Time : MultinomialNB\n",
            "Training MultinomialNB finished in 0.0 sec\n",
            "Training Time : DecisionTreeClassifier\n",
            "Training DecisionTreeClassifier finished in 8.242830991744995 sec\n",
            "Training Time : AdaBoostClassifier\n"
          ]
        },
        {
          "name": "stderr",
          "output_type": "stream",
          "text": [
            "c:\\Users\\HP\\AppData\\Local\\Programs\\Python\\Python311\\Lib\\site-packages\\sklearn\\ensemble\\_weight_boosting.py:527: FutureWarning: The SAMME.R algorithm (the default) is deprecated and will be removed in 1.6. Use the SAMME algorithm to circumvent this warning.\n",
            "  warnings.warn(\n"
          ]
        },
        {
          "name": "stdout",
          "output_type": "stream",
          "text": [
            "Training AdaBoostClassifier finished in 4.881542205810547 sec\n",
            "Training Time : BaggingClassifier\n",
            "Training BaggingClassifier finished in 87.54651069641113 sec\n",
            "Training Time : SGDClassifier\n",
            "Training SGDClassifier finished in 0.09620809555053711 sec\n"
          ]
        }
      ],
      "source": [
        "final_result = pipeline(training_data, y_train, testing_data, y_test)"
      ]
    },
    {
      "cell_type": "code",
      "execution_count": 34,
      "metadata": {
        "id": "rA3F0Sk-OsP6"
      },
      "outputs": [],
      "source": [
        "def performfinalresult(final_results):\n",
        "    results = pd.DataFrame(final_results)\n",
        "    results.reindex(columns = ['Algorithm', 'Accuracy : Test', 'Precision : Test', 'Recall : Test', 'F1 Score : Test', 'Prediction Time',\n",
        "                          'Accuracy : Train', 'Precision : Train', 'Recall : Train', 'F1 Score : Train', 'Training Time'])\n",
        "    results.sort_values(by = 'F1 Score : Test', inplace=True, ascending=False)\n",
        "\n",
        "    return results"
      ]
    },
    {
      "cell_type": "code",
      "execution_count": 35,
      "metadata": {
        "colab": {
          "base_uri": "https://localhost:8080/",
          "height": 286
        },
        "id": "Pdubpox_OuEz",
        "outputId": "7c087382-7eac-4659-8238-43a54653c099"
      },
      "outputs": [
        {
          "data": {
            "text/html": [
              "<div>\n",
              "<style scoped>\n",
              "    .dataframe tbody tr th:only-of-type {\n",
              "        vertical-align: middle;\n",
              "    }\n",
              "\n",
              "    .dataframe tbody tr th {\n",
              "        vertical-align: top;\n",
              "    }\n",
              "\n",
              "    .dataframe thead th {\n",
              "        text-align: right;\n",
              "    }\n",
              "</style>\n",
              "<table border=\"1\" class=\"dataframe\">\n",
              "  <thead>\n",
              "    <tr style=\"text-align: right;\">\n",
              "      <th></th>\n",
              "      <th>Algorithm</th>\n",
              "      <th>Training Time</th>\n",
              "      <th>Prediction Time</th>\n",
              "      <th>Accuracy : Test</th>\n",
              "      <th>Accuracy : Train</th>\n",
              "      <th>F1 Score : Test</th>\n",
              "      <th>F1 Score : Train</th>\n",
              "      <th>Precision : Test</th>\n",
              "      <th>Precision : Train</th>\n",
              "      <th>Recall : Test</th>\n",
              "      <th>Recall : Train</th>\n",
              "    </tr>\n",
              "  </thead>\n",
              "  <tbody>\n",
              "    <tr>\n",
              "      <th>0</th>\n",
              "      <td>DecisionTreeClassifier</td>\n",
              "      <td>8.242831</td>\n",
              "      <td>0.030849</td>\n",
              "      <td>0.972590</td>\n",
              "      <td>0.996384</td>\n",
              "      <td>0.978940</td>\n",
              "      <td>0.997186</td>\n",
              "      <td>0.972456</td>\n",
              "      <td>0.995665</td>\n",
              "      <td>0.985510</td>\n",
              "      <td>0.998712</td>\n",
              "    </tr>\n",
              "    <tr>\n",
              "      <th>1</th>\n",
              "      <td>BaggingClassifier</td>\n",
              "      <td>87.546511</td>\n",
              "      <td>0.558897</td>\n",
              "      <td>0.966529</td>\n",
              "      <td>0.994317</td>\n",
              "      <td>0.974163</td>\n",
              "      <td>0.995577</td>\n",
              "      <td>0.972199</td>\n",
              "      <td>0.994271</td>\n",
              "      <td>0.976135</td>\n",
              "      <td>0.996887</td>\n",
              "    </tr>\n",
              "    <tr>\n",
              "      <th>2</th>\n",
              "      <td>LinearSVC</td>\n",
              "      <td>0.186581</td>\n",
              "      <td>0.010096</td>\n",
              "      <td>0.963636</td>\n",
              "      <td>0.987808</td>\n",
              "      <td>0.971855</td>\n",
              "      <td>0.990488</td>\n",
              "      <td>0.972477</td>\n",
              "      <td>0.991554</td>\n",
              "      <td>0.971234</td>\n",
              "      <td>0.989425</td>\n",
              "    </tr>\n",
              "    <tr>\n",
              "      <th>3</th>\n",
              "      <td>LogisticRegression</td>\n",
              "      <td>0.283231</td>\n",
              "      <td>0.002944</td>\n",
              "      <td>0.935262</td>\n",
              "      <td>0.959705</td>\n",
              "      <td>0.949657</td>\n",
              "      <td>0.968508</td>\n",
              "      <td>0.954771</td>\n",
              "      <td>0.971279</td>\n",
              "      <td>0.944598</td>\n",
              "      <td>0.965752</td>\n",
              "    </tr>\n",
              "    <tr>\n",
              "      <th>4</th>\n",
              "      <td>SGDClassifier</td>\n",
              "      <td>0.096208</td>\n",
              "      <td>0.000858</td>\n",
              "      <td>0.934435</td>\n",
              "      <td>0.957363</td>\n",
              "      <td>0.948751</td>\n",
              "      <td>0.966546</td>\n",
              "      <td>0.958868</td>\n",
              "      <td>0.973173</td>\n",
              "      <td>0.938845</td>\n",
              "      <td>0.960009</td>\n",
              "    </tr>\n",
              "    <tr>\n",
              "      <th>5</th>\n",
              "      <td>MultinomialNB</td>\n",
              "      <td>0.000000</td>\n",
              "      <td>0.016165</td>\n",
              "      <td>0.897796</td>\n",
              "      <td>0.926367</td>\n",
              "      <td>0.924440</td>\n",
              "      <td>0.944462</td>\n",
              "      <td>0.885313</td>\n",
              "      <td>0.915035</td>\n",
              "      <td>0.967185</td>\n",
              "      <td>0.975844</td>\n",
              "    </tr>\n",
              "    <tr>\n",
              "      <th>6</th>\n",
              "      <td>AdaBoostClassifier</td>\n",
              "      <td>4.881542</td>\n",
              "      <td>0.870962</td>\n",
              "      <td>0.838567</td>\n",
              "      <td>0.839027</td>\n",
              "      <td>0.861466</td>\n",
              "      <td>0.860519</td>\n",
              "      <td>0.967348</td>\n",
              "      <td>0.968886</td>\n",
              "      <td>0.776476</td>\n",
              "      <td>0.773955</td>\n",
              "    </tr>\n",
              "  </tbody>\n",
              "</table>\n",
              "</div>"
            ],
            "text/plain": [
              "                Algorithm  Training Time  Prediction Time  Accuracy : Test  \\\n",
              "0  DecisionTreeClassifier       8.242831         0.030849         0.972590   \n",
              "1       BaggingClassifier      87.546511         0.558897         0.966529   \n",
              "2               LinearSVC       0.186581         0.010096         0.963636   \n",
              "3      LogisticRegression       0.283231         0.002944         0.935262   \n",
              "4           SGDClassifier       0.096208         0.000858         0.934435   \n",
              "5           MultinomialNB       0.000000         0.016165         0.897796   \n",
              "6      AdaBoostClassifier       4.881542         0.870962         0.838567   \n",
              "\n",
              "   Accuracy : Train  F1 Score : Test  F1 Score : Train  Precision : Test  \\\n",
              "0          0.996384         0.978940          0.997186          0.972456   \n",
              "1          0.994317         0.974163          0.995577          0.972199   \n",
              "2          0.987808         0.971855          0.990488          0.972477   \n",
              "3          0.959705         0.949657          0.968508          0.954771   \n",
              "4          0.957363         0.948751          0.966546          0.958868   \n",
              "5          0.926367         0.924440          0.944462          0.885313   \n",
              "6          0.839027         0.861466          0.860519          0.967348   \n",
              "\n",
              "   Precision : Train  Recall : Test  Recall : Train  \n",
              "0           0.995665       0.985510        0.998712  \n",
              "1           0.994271       0.976135        0.996887  \n",
              "2           0.991554       0.971234        0.989425  \n",
              "3           0.971279       0.944598        0.965752  \n",
              "4           0.973173       0.938845        0.960009  \n",
              "5           0.915035       0.967185        0.975844  \n",
              "6           0.968886       0.776476        0.773955  "
            ]
          },
          "execution_count": 35,
          "metadata": {},
          "output_type": "execute_result"
        }
      ],
      "source": [
        "results = performfinalresult(final_result)\n",
        "results.reset_index(drop = True)"
      ]
    },
    {
      "cell_type": "code",
      "execution_count": 36,
      "metadata": {
        "colab": {
          "base_uri": "https://localhost:8080/",
          "height": 112
        },
        "id": "gjfAXcphOwam",
        "outputId": "0128a740-782b-4b5a-8005-c2efe382252a"
      },
      "outputs": [
        {
          "data": {
            "text/html": [
              "<div>\n",
              "<style scoped>\n",
              "    .dataframe tbody tr th:only-of-type {\n",
              "        vertical-align: middle;\n",
              "    }\n",
              "\n",
              "    .dataframe tbody tr th {\n",
              "        vertical-align: top;\n",
              "    }\n",
              "\n",
              "    .dataframe thead th {\n",
              "        text-align: right;\n",
              "    }\n",
              "</style>\n",
              "<table border=\"1\" class=\"dataframe\">\n",
              "  <thead>\n",
              "    <tr style=\"text-align: right;\">\n",
              "      <th></th>\n",
              "      <th>Training Time</th>\n",
              "      <th>Prediction Time</th>\n",
              "      <th>Accuracy : Test</th>\n",
              "      <th>Accuracy : Train</th>\n",
              "      <th>F1 Score : Test</th>\n",
              "      <th>F1 Score : Train</th>\n",
              "      <th>Precision : Test</th>\n",
              "      <th>Precision : Train</th>\n",
              "      <th>Recall : Test</th>\n",
              "      <th>Recall : Train</th>\n",
              "    </tr>\n",
              "  </thead>\n",
              "  <tbody>\n",
              "    <tr>\n",
              "      <th>min</th>\n",
              "      <td>0.000000</td>\n",
              "      <td>0.000858</td>\n",
              "      <td>0.838567</td>\n",
              "      <td>0.839027</td>\n",
              "      <td>0.861466</td>\n",
              "      <td>0.860519</td>\n",
              "      <td>0.885313</td>\n",
              "      <td>0.915035</td>\n",
              "      <td>0.776476</td>\n",
              "      <td>0.773955</td>\n",
              "    </tr>\n",
              "    <tr>\n",
              "      <th>max</th>\n",
              "      <td>87.546511</td>\n",
              "      <td>0.870962</td>\n",
              "      <td>0.972590</td>\n",
              "      <td>0.996384</td>\n",
              "      <td>0.978940</td>\n",
              "      <td>0.997186</td>\n",
              "      <td>0.972477</td>\n",
              "      <td>0.995665</td>\n",
              "      <td>0.985510</td>\n",
              "      <td>0.998712</td>\n",
              "    </tr>\n",
              "  </tbody>\n",
              "</table>\n",
              "</div>"
            ],
            "text/plain": [
              "     Training Time  Prediction Time  Accuracy : Test  Accuracy : Train  \\\n",
              "min       0.000000         0.000858         0.838567          0.839027   \n",
              "max      87.546511         0.870962         0.972590          0.996384   \n",
              "\n",
              "     F1 Score : Test  F1 Score : Train  Precision : Test  Precision : Train  \\\n",
              "min         0.861466          0.860519          0.885313           0.915035   \n",
              "max         0.978940          0.997186          0.972477           0.995665   \n",
              "\n",
              "     Recall : Test  Recall : Train  \n",
              "min       0.776476        0.773955  \n",
              "max       0.985510        0.998712  "
            ]
          },
          "execution_count": 36,
          "metadata": {},
          "output_type": "execute_result"
        }
      ],
      "source": [
        "results.describe().loc[['min', 'max'], :]"
      ]
    },
    {
      "cell_type": "markdown",
      "metadata": {
        "id": "P2VX5OaHO0Zt"
      },
      "source": [
        "Summary IN Graph"
      ]
    },
    {
      "cell_type": "code",
      "execution_count": 37,
      "metadata": {
        "colab": {
          "base_uri": "https://localhost:8080/",
          "height": 617
        },
        "id": "cKBJzgilOz5N",
        "outputId": "44ac13b4-4138-449a-a0d5-2d62b54e8c46"
      },
      "outputs": [
        {
          "data": {
            "image/png": "[encoded data removed]",
            "text/plain": [
              "<Figure size 1500x600 with 1 Axes>"
            ]
          },
          "metadata": {},
          "output_type": "display_data"
        }
      ],
      "source": [
        "best_acc = results[results['Accuracy : Test'] == results['Accuracy : Test'].max()]\n",
        "best_f1 = results[results['F1 Score : Test'] == results['F1 Score : Test'].max()]\n",
        "best_precision = results[results['Precision : Test'] == results['Precision : Test'].max()]\n",
        "best_recall = results[results['Recall : Test'] == results['Recall : Test'].max()]\n",
        "\n",
        "sns.set_style('darkgrid')\n",
        "plt.figure(figsize = (15, 6))\n",
        "\n",
        "barWidth = 0.17\n",
        "\n",
        "# set height of bar\n",
        "bars1 = results['Accuracy : Test']\n",
        "bars2 = results['F1 Score : Test']\n",
        "\n",
        "# Set position of bar on X axis\n",
        "r1 = np.arange(len(bars1))\n",
        "r2 = [x + barWidth for x in r1]\n",
        "\n",
        "# Make the plot\n",
        "pal = sns.color_palette()\n",
        "plt.bar(r1, bars1, color= pal[0], width=barWidth, edgecolor='white', label='Test Accuracy')\n",
        "plt.bar(r2, bars2, color= pal[1], width=barWidth, edgecolor='white', label='Test F1 Score')\n",
        "\n",
        "# Add xticks on the middle of the group bars\n",
        "plt.xlabel('Algorithm', fontweight='bold', fontsize = 13)\n",
        "plt.ylabel('Score', fontweight = 'bold', fontsize = 13)\n",
        "plt.xticks([r + barWidth for r in range(len(bars1))], results['Algorithm'], rotation = 15, fontsize = 11)\n",
        "\n",
        "# Create legend & Show graphic\n",
        "plt.legend(fontsize = 13)\n",
        "\n",
        "textstr = '\\n'.join(['Best Accuracy: {:.3f} - {}'.format(best_acc['Accuracy : Test'].values[0], best_acc['Algorithm'].values[0]),\n",
        "                     'Best F1 Score: {:.3f} - {}'.format(best_f1['F1 Score : Test'].values[0], best_f1['Algorithm'].values[0])])\n",
        "props = dict(boxstyle='round', facecolor='lightgrey', alpha=0.5)\n",
        "\n",
        "plt.title('Classification Summary of Algorithms', fontweight = 'bold', fontsize = 17);"
      ]
    },
    {
      "cell_type": "markdown",
      "metadata": {
        "id": "2Xh6KDjFPLd2"
      },
      "source": [
        "Traning and Prediction time of Algorithm"
      ]
    },
    {
      "cell_type": "code",
      "execution_count": 38,
      "metadata": {
        "colab": {
          "base_uri": "https://localhost:8080/",
          "height": 711
        },
        "id": "-ZE3MB-hPIhm",
        "outputId": "863c535f-37d3-48c2-bb70-3d7ccee762f2"
      },
      "outputs": [
        {
          "data": {
            "text/plain": [
              "Text(0.5, 1.0, 'Training and Prediction time of Algorithms')"
            ]
          },
          "execution_count": 38,
          "metadata": {},
          "output_type": "execute_result"
        },
        {
          "data": {
            "image/png": "[encoded data removed]",
            "text/plain": [
              "<Figure size 1200x700 with 1 Axes>"
            ]
          },
          "metadata": {},
          "output_type": "display_data"
        }
      ],
      "source": [
        "\n",
        "best_train_time = results[results['Training Time'] == results['Training Time'].min()]\n",
        "worst_train_time = results[results['Training Time'] == results['Training Time'].max()]\n",
        "best_prediction_time = results[results['Prediction Time'] == results['Prediction Time'].min()]\n",
        "worst_prediction_time = results[results['Prediction Time'] == results['Prediction Time'].max()]\n",
        "\n",
        "plt.figure(figsize = (12, 7))\n",
        "\n",
        "barWidth = 0.17\n",
        "\n",
        "# set height of bar\n",
        "bars1 = results['Training Time']\n",
        "bars2 = results['Prediction Time']\n",
        "\n",
        "# Set position of bar on X axis\n",
        "r1 = np.arange(len(bars1))\n",
        "r2 = [x + barWidth for x in r1]\n",
        "\n",
        "# Make the plot\n",
        "plt.bar(r1, bars1, color= pal[0], width=barWidth, edgecolor='white', label='Training Time')\n",
        "plt.bar(r2, bars2, color= pal[1], width=barWidth, edgecolor='white', label='Prediction Time')\n",
        "\n",
        "# Add xticks on the middle of the group bars\n",
        "plt.xlabel('Algorithm', fontweight='bold', fontsize = 13)\n",
        "plt.ylabel('Time (seconds)', fontweight = 'bold', fontsize = 13)\n",
        "plt.xticks([r + barWidth for r in range(len(bars1))], results['Algorithm'], rotation = 15, fontsize = 11)\n",
        "\n",
        "\n",
        "textstr = '\\n'.join(('Best Training Time: {:.3f} - {}'.format(best_train_time['Training Time'].values[0], best_train_time['Algorithm'].values[0]),\n",
        "                     'Worst Training Time: {:.3f} - {}'.format(worst_train_time['Training Time'].values[0], worst_train_time['Algorithm'].values[0]),\n",
        "                   'Best Prediction Time: {:.3f} - {}'.format(best_prediction_time['Training Time'].values[0], best_prediction_time['Algorithm'].values[0]),\n",
        "                    'Worst Prediction Time: {:.3f} - {}'.format(worst_prediction_time['Training Time'].values[0], worst_prediction_time['Algorithm'].values[0])))\n",
        "props = dict(boxstyle='round', facecolor='lightgrey', alpha=0.5)\n",
        "\n",
        "#place a text box\n",
        "plt.text(3.2, 12, textstr, fontsize=14,  bbox=props)\n",
        "\n",
        "# Create legend & Show graphic\n",
        "plt.legend(fontsize = 13)\n",
        "plt.title('Training and Prediction time of Algorithms', fontweight = 'bold', fontsize = 17)"
      ]
    },
    {
      "cell_type": "code",
      "execution_count": 39,
      "metadata": {
        "colab": {
          "base_uri": "https://localhost:8080/",
          "height": 206
        },
        "id": "QWSbJ44bPabL",
        "outputId": "93abc467-b025-413f-e9b5-08c98094cf54"
      },
      "outputs": [
        {
          "data": {
            "text/html": [
              "<div>\n",
              "<style scoped>\n",
              "    .dataframe tbody tr th:only-of-type {\n",
              "        vertical-align: middle;\n",
              "    }\n",
              "\n",
              "    .dataframe tbody tr th {\n",
              "        vertical-align: top;\n",
              "    }\n",
              "\n",
              "    .dataframe thead th {\n",
              "        text-align: right;\n",
              "    }\n",
              "</style>\n",
              "<table border=\"1\" class=\"dataframe\">\n",
              "  <thead>\n",
              "    <tr style=\"text-align: right;\">\n",
              "      <th></th>\n",
              "      <th>headline</th>\n",
              "      <th>label</th>\n",
              "      <th>length_headline</th>\n",
              "    </tr>\n",
              "  </thead>\n",
              "  <tbody>\n",
              "    <tr>\n",
              "      <th>0</th>\n",
              "      <td>cock  suck before you piss around on my work</td>\n",
              "      <td>1</td>\n",
              "      <td>44</td>\n",
              "    </tr>\n",
              "    <tr>\n",
              "      <th>1</th>\n",
              "      <td>you are  gay or antisemmitian archangel white ...</td>\n",
              "      <td>1</td>\n",
              "      <td>624</td>\n",
              "    </tr>\n",
              "    <tr>\n",
              "      <th>2</th>\n",
              "      <td>fuck your filthy mother in the ass  dry</td>\n",
              "      <td>1</td>\n",
              "      <td>39</td>\n",
              "    </tr>\n",
              "    <tr>\n",
              "      <th>3</th>\n",
              "      <td>get fuck  ed up  get fuck  ed up got a drink t...</td>\n",
              "      <td>1</td>\n",
              "      <td>121</td>\n",
              "    </tr>\n",
              "    <tr>\n",
              "      <th>4</th>\n",
              "      <td>stupid peace of  shit  stop deleting my stuff ...</td>\n",
              "      <td>1</td>\n",
              "      <td>93</td>\n",
              "    </tr>\n",
              "  </tbody>\n",
              "</table>\n",
              "</div>"
            ],
            "text/plain": [
              "                                            headline  label  length_headline\n",
              "0       cock  suck before you piss around on my work      1               44\n",
              "1  you are  gay or antisemmitian archangel white ...      1              624\n",
              "2            fuck your filthy mother in the ass  dry      1               39\n",
              "3  get fuck  ed up  get fuck  ed up got a drink t...      1              121\n",
              "4  stupid peace of  shit  stop deleting my stuff ...      1               93"
            ]
          },
          "execution_count": 39,
          "metadata": {},
          "output_type": "execute_result"
        }
      ],
      "source": [
        "df.head()"
      ]
    },
    {
      "cell_type": "code",
      "execution_count": 40,
      "metadata": {
        "colab": {
          "base_uri": "https://localhost:8080/"
        },
        "id": "jvMbl9blPcf_",
        "outputId": "37aa074b-1df2-47e6-be8f-1beaf034bc9a"
      },
      "outputs": [
        {
          "name": "stdout",
          "output_type": "stream",
          "text": [
            "[0]\n",
            "non-bulling\n"
          ]
        },
        {
          "name": "stderr",
          "output_type": "stream",
          "text": [
            "c:\\Users\\HP\\AppData\\Local\\Programs\\Python\\Python311\\Lib\\site-packages\\sklearn\\feature_extraction\\text.py:406: UserWarning: Your stop_words may be inconsistent with your preprocessing. Tokenizing the stop words generated tokens ['ninad'] not in stop_words.\n",
            "  warnings.warn(\n"
          ]
        }
      ],
      "source": [
        "data = [\"You are so beautiful\"]\n",
        "\n",
        "tfidf_vector = TfidfVectorizer(stop_words=content_list, lowercase=True, vocabulary=pickle.load(open(\"tfidfvectoizer.pkl\", \"rb\")))\n",
        "preprocessed_data = tfidf_vector.fit_transform(data)\n",
        "\n",
        "trained_model = pickle.load(open('LinearSVC.pkl', 'rb'))\n",
        "print(trained_model.predict(preprocessed_data))\n",
        "\n",
        "if(trained_model.predict(preprocessed_data)==1):\n",
        "    print(\"bulling\")\n",
        "else:\n",
        "    print(\"non-bulling\")"
      ]
    },
    {
      "cell_type": "markdown",
      "metadata": {
        "id": "led2UptCPj3J"
      },
      "source": [
        "Fine Tuining"
      ]
    },
    {
      "cell_type": "code",
      "execution_count": 41,
      "metadata": {
        "id": "80rxk-hsPjIx"
      },
      "outputs": [],
      "source": [
        "from sklearn.model_selection import GridSearchCV\n",
        "\n",
        "def tuining(clf, param_dict, X_train, y_train, X_test, y_test):\n",
        "    scorer = make_scorer(f1_score)\n",
        "\n",
        "    grid_obj = GridSearchCV(estimator=clf, param_grid=param_dict, scoring=scorer, cv=5)\n",
        "\n",
        "    grid_fit = grid_obj.fit(X_train, y_train)\n",
        "\n",
        "    best_clf = grid_fit.best_estimator_\n",
        "\n",
        "    prediction = (clf.fit(X_train, y_train)).predict(X_test)\n",
        "\n",
        "    best_prediction = best_clf.predict(X_test)\n",
        "\n",
        "    print(clf.__class__.__name__)\n",
        "    print(f\"Best Parameter:  {grid_fit.best_params_}\")\n",
        "\n",
        "    print(f\"Accuracy:  {accuracy_score(y_test, best_prediction)}\")\n",
        "\n",
        "    print(f\"F1 Score :  {f1_score(y_test, best_prediction)}\")\n",
        "\n",
        "    print(f\"Precision :  {precision_score(y_test, best_prediction)}\")\n",
        "\n",
        "    print(f\"Recall:  {recall_score(y_test, best_prediction)}\")"
      ]
    },
    {
      "cell_type": "code",
      "execution_count": 42,
      "metadata": {
        "colab": {
          "base_uri": "https://localhost:8080/"
        },
        "id": "KBHccerlPtLQ",
        "outputId": "eeea05a1-b923-4a80-cf7e-b0a90ea99c72"
      },
      "outputs": [
        {
          "name": "stdout",
          "output_type": "stream",
          "text": [
            "LinearSVC\n",
            "Best Parameter:  {'C': 1.2}\n",
            "Accuracy:  0.9644628099173553\n",
            "F1 Score :  0.9724888035828535\n",
            "Precision :  0.9733191035218783\n",
            "Recall:  0.97165991902834\n"
          ]
        }
      ],
      "source": [
        "param_grid = {\n",
        "    'C': [0.25, 0.5, 0.75, 1, 1.2]\n",
        "}\n",
        "\n",
        "clf_model = LinearSVC()\n",
        "\n",
        "tuining(clf_model, param_grid, training_data, y_train, testing_data, y_test)"
      ]
    },
    {
      "cell_type": "code",
      "execution_count": 43,
      "metadata": {
        "id": "FDeD2YVwP1Uz"
      },
      "outputs": [],
      "source": [
        "pickle.dump(clf_model, open(\"LinearSVCTuned.pkl\", \"wb\"))"
      ]
    }
  ],
  "metadata": {
    "colab": {
      "provenance": []
    },
    "kernelspec": {
      "display_name": "Python 3",
      "name": "python3"
    },
    "language_info": {
      "codemirror_mode": {
        "name": "ipython",
        "version": 3
      },
      "file_extension": ".py",
      "mimetype": "text/x-python",
      "name": "python",
      "nbconvert_exporter": "python",
      "pygments_lexer": "ipython3",
      "version": "3.11.5"
    }
  },
  "nbformat": 4,
  "nbformat_minor": 0
}
